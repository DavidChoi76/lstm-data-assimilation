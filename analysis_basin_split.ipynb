{
 "cells": [
  {
   "cell_type": "markdown",
   "metadata": {},
   "source": [
    "# Notebook Setup"
   ]
  },
  {
   "cell_type": "markdown",
   "metadata": {},
   "source": [
    "## New Metrics Switch"
   ]
  },
  {
   "cell_type": "code",
   "execution_count": 1,
   "metadata": {},
   "outputs": [],
   "source": [
    "# Boolean flag to signal whether it's necessary to load all of hte results\n",
    "# and calculate new performance statistics.\n",
    "# This takes several hours.\n",
    "CALCULATE_NEW_METRICS = True\n",
    "\n",
    "# If we calculate new performance statistics, they are saved in this file.\n",
    "# If we do not calculate new performance statistics, old ones are loaded\n",
    "# from this file.\n",
    "pub_stats_filename = 'results/pub_statistics.pkl'\n",
    "\n",
    "\n",
    "# We also need the time split stats for plotting.\n",
    "time_split_stats_filename = 'results/time_split_statistics.pkl'"
   ]
  },
  {
   "cell_type": "markdown",
   "metadata": {},
   "source": [
    "## Imports"
   ]
  },
  {
   "cell_type": "code",
   "execution_count": 2,
   "metadata": {},
   "outputs": [],
   "source": [
    "import glob\n",
    "import numpy as np\n",
    "from pathlib import Path\n",
    "import pickle as pkl\n",
    "\n",
    "import matplotlib.colors as mcolors\n",
    "import matplotlib.pyplot as plt\n",
    "import pandas as pd\n",
    "from tqdm.notebook import tqdm\n",
    "from typing import Sequence\n",
    "\n",
    "# The neuralhydroloy repository must exist in the current working directory.\n",
    "from neuralhydrology.evaluation import metrics"
   ]
  },
  {
   "cell_type": "markdown",
   "metadata": {},
   "source": [
    "## Metrics List"
   ]
  },
  {
   "cell_type": "code",
   "execution_count": 3,
   "metadata": {},
   "outputs": [
    {
     "name": "stdout",
     "output_type": "stream",
     "text": [
      "The available metrics are:\n"
     ]
    },
    {
     "data": {
      "text/plain": [
       "['NSE',\n",
       " 'MSE',\n",
       " 'RMSE',\n",
       " 'KGE',\n",
       " 'Alpha-NSE',\n",
       " 'Pearson-r',\n",
       " 'Beta-KGE',\n",
       " 'Beta-NSE',\n",
       " 'FHV',\n",
       " 'FMS',\n",
       " 'FLV',\n",
       " 'Peak-Timing']"
      ]
     },
     "execution_count": 3,
     "metadata": {},
     "output_type": "execute_result"
    }
   ],
   "source": [
    "# Returns a list of all available performance metrics in NeuralHydrology\n",
    "metrics_list = metrics.get_available_metrics()\n",
    "print('The available metrics are:')\n",
    "metrics_list"
   ]
  },
  {
   "cell_type": "code",
   "execution_count": 4,
   "metadata": {},
   "outputs": [
    {
     "name": "stdout",
     "output_type": "stream",
     "text": [
      "The metrics that we are going to calculate are:\n"
     ]
    },
    {
     "data": {
      "text/plain": [
       "['NSE', 'KGE', 'Alpha-NSE', 'Pearson-r', 'Beta-NSE', 'Peak-Timing']"
      ]
     },
     "execution_count": 4,
     "metadata": {},
     "output_type": "execute_result"
    }
   ],
   "source": [
    "# Remove any metrics that you don't care about. \n",
    "# Feel free to change this.\n",
    "metrics_list.remove('MSE')\n",
    "metrics_list.remove('RMSE')\n",
    "metrics_list.remove('FHV')\n",
    "metrics_list.remove('FMS')\n",
    "metrics_list.remove('FLV')\n",
    "metrics_list.remove('Beta-KGE')\n",
    "\n",
    "print('The metrics that we are going to calculate are:')\n",
    "metrics_list"
   ]
  },
  {
   "cell_type": "markdown",
   "metadata": {},
   "source": [
    "## Basins"
   ]
  },
  {
   "cell_type": "code",
   "execution_count": 5,
   "metadata": {},
   "outputs": [
    {
     "name": "stdout",
     "output_type": "stream",
     "text": [
      "There are 531 basins.\n"
     ]
    }
   ],
   "source": [
    "basin_file = '531_basin_list.txt'\n",
    "with Path(basin_file).open('r') as fp:\n",
    "    basins = sorted(basin.strip() for basin in fp if basin.strip())\n",
    "print(f\"There are {len(basins)} basins.\")"
   ]
  },
  {
   "cell_type": "markdown",
   "metadata": {},
   "source": [
    "## Paths"
   ]
  },
  {
   "cell_type": "code",
   "execution_count": 6,
   "metadata": {},
   "outputs": [],
   "source": [
    "# Paths to results from different models. \n",
    "# Note that these must match what is in the config files.\n",
    "autoregression_dir = 'runs/pub/autoregression'\n",
    "assimilation_dir = 'runs/pub/assimilation'\n",
    "simulation_dir = 'runs/pub/simulation'"
   ]
  },
  {
   "cell_type": "code",
   "execution_count": 7,
   "metadata": {},
   "outputs": [
    {
     "name": "stdout",
     "output_type": "stream",
     "text": [
      "There are 10 simulation runs.\n"
     ]
    }
   ],
   "source": [
    "# Get paths to all simulation results.\n",
    "simulation_run_dirs = glob.glob(simulation_dir + '/pub_simulation_*')\n",
    "for i, run_dir in enumerate(simulation_run_dirs):\n",
    "    simulation_run_dirs[i] = run_dir.split('/')[-1]\n",
    "print(f\"There are {len(simulation_run_dirs)} simulation runs.\")"
   ]
  },
  {
   "cell_type": "code",
   "execution_count": 8,
   "metadata": {},
   "outputs": [
    {
     "name": "stdout",
     "output_type": "stream",
     "text": [
      "There are 10 assimilation runs.\n"
     ]
    }
   ],
   "source": [
    "# Get paths to all assimilation results.\n",
    "assimilation_run_dirs = glob.glob(assimilation_dir + '/**')\n",
    "for i, run_dir in enumerate(assimilation_run_dirs):\n",
    "    assimilation_run_dirs[i] = run_dir.split('/')[-1]\n",
    "print(f\"There are {len(assimilation_run_dirs)} assimilation runs.\")"
   ]
  },
  {
   "cell_type": "code",
   "execution_count": 9,
   "metadata": {},
   "outputs": [
    {
     "name": "stdout",
     "output_type": "stream",
     "text": [
      "There are 10 autoregression runs.\n"
     ]
    }
   ],
   "source": [
    "# Get paths to all autoregression results.\n",
    "autoregression_run_dirs = glob.glob(autoregression_dir + '/**')\n",
    "for i, run_dir in enumerate(autoregression_run_dirs):\n",
    "    autoregression_run_dirs[i] = run_dir.split('/')[-1]\n",
    "print(f\"There are {len(autoregression_run_dirs)} autoregression runs.\")"
   ]
  },
  {
   "cell_type": "markdown",
   "metadata": {},
   "source": [
    "# Experiment Definition"
   ]
  },
  {
   "cell_type": "markdown",
   "metadata": {},
   "source": [
    "## Infer Experiment Parameters"
   ]
  },
  {
   "cell_type": "code",
   "execution_count": 10,
   "metadata": {},
   "outputs": [],
   "source": [
    "ensembles = set()\n",
    "for run in autoregression_run_dirs:\n",
    "    ensembles.add(int(run.split('seed_')[-1].split('_')[0]))\n",
    "ensembles = sorted(list(ensembles))"
   ]
  },
  {
   "cell_type": "markdown",
   "metadata": {},
   "source": [
    "## Initialize Storage"
   ]
  },
  {
   "cell_type": "code",
   "execution_count": 11,
   "metadata": {},
   "outputs": [],
   "source": [
    "autoregression_statistics = {}\n",
    "assimilation_statistics = {}\n",
    "simulation_statistics = {}\n",
    "\n",
    "for metric in metrics_list:\n",
    "    autoregression_statistics[metric] = pd.DataFrame(index=basins, columns=ensembles, dtype=np.float64)\n",
    "    assimilation_statistics[metric] = pd.DataFrame(index=basins, columns=ensembles, dtype=np.float64)\n",
    "    simulation_statistics[metric] = pd.DataFrame(index=basins, columns=ensembles, dtype=np.float64)"
   ]
  },
  {
   "cell_type": "markdown",
   "metadata": {},
   "source": [
    "## Load Obs Data"
   ]
  },
  {
   "cell_type": "code",
   "execution_count": 12,
   "metadata": {},
   "outputs": [],
   "source": [
    "# Load in the saved metrics. \n",
    "# Even if we just calcuated them, might as well make sure the file works.\n",
    "# You need to change this path manually because of the timestamp. It must\n",
    "# point to a time_split directory and not to a pub directory, in order to \n",
    "# have all of the basins.\n",
    "with open('runs/time_split/simulation/simulation_seed_0_1304_224615/test/model_epoch030/test_results.p', 'rb') as f:\n",
    "    data_xr = pkl.load(f)"
   ]
  },
  {
   "cell_type": "markdown",
   "metadata": {},
   "source": [
    "# Calculate Metrics"
   ]
  },
  {
   "cell_type": "markdown",
   "metadata": {},
   "source": [
    "## Simulation"
   ]
  },
  {
   "cell_type": "code",
   "execution_count": 13,
   "metadata": {},
   "outputs": [
    {
     "data": {
      "application/vnd.jupyter.widget-view+json": {
       "model_id": "94acc399daab4db79b53a0340e49b369",
       "version_major": 2,
       "version_minor": 0
      },
      "text/plain": [
       "  0%|          | 0/53 [00:00<?, ?it/s]"
      ]
     },
     "metadata": {},
     "output_type": "display_data"
    },
    {
     "data": {
      "application/vnd.jupyter.widget-view+json": {
       "model_id": "dc2bbc539f5746aca1df2d0e2c6527af",
       "version_major": 2,
       "version_minor": 0
      },
      "text/plain": [
       "  0%|          | 0/53 [00:00<?, ?it/s]"
      ]
     },
     "metadata": {},
     "output_type": "display_data"
    },
    {
     "data": {
      "application/vnd.jupyter.widget-view+json": {
       "model_id": "55cfc28ca81b4d1ca441820729dc1c68",
       "version_major": 2,
       "version_minor": 0
      },
      "text/plain": [
       "  0%|          | 0/53 [00:00<?, ?it/s]"
      ]
     },
     "metadata": {},
     "output_type": "display_data"
    },
    {
     "data": {
      "application/vnd.jupyter.widget-view+json": {
       "model_id": "68762f078ecb4ca48fb5d18b95728490",
       "version_major": 2,
       "version_minor": 0
      },
      "text/plain": [
       "  0%|          | 0/54 [00:00<?, ?it/s]"
      ]
     },
     "metadata": {},
     "output_type": "display_data"
    },
    {
     "data": {
      "application/vnd.jupyter.widget-view+json": {
       "model_id": "d83028a4c34145a69f03888359c7ff02",
       "version_major": 2,
       "version_minor": 0
      },
      "text/plain": [
       "  0%|          | 0/53 [00:00<?, ?it/s]"
      ]
     },
     "metadata": {},
     "output_type": "display_data"
    },
    {
     "data": {
      "application/vnd.jupyter.widget-view+json": {
       "model_id": "466484f3e4ed4fc5ab6bd6d851eb906b",
       "version_major": 2,
       "version_minor": 0
      },
      "text/plain": [
       "  0%|          | 0/53 [00:00<?, ?it/s]"
      ]
     },
     "metadata": {},
     "output_type": "display_data"
    },
    {
     "data": {
      "application/vnd.jupyter.widget-view+json": {
       "model_id": "40e3cedf9fd54c74904610b4c338693e",
       "version_major": 2,
       "version_minor": 0
      },
      "text/plain": [
       "  0%|          | 0/53 [00:00<?, ?it/s]"
      ]
     },
     "metadata": {},
     "output_type": "display_data"
    },
    {
     "data": {
      "application/vnd.jupyter.widget-view+json": {
       "model_id": "74a2861a90ce4d86a4a68bb0b4f23a14",
       "version_major": 2,
       "version_minor": 0
      },
      "text/plain": [
       "  0%|          | 0/53 [00:00<?, ?it/s]"
      ]
     },
     "metadata": {},
     "output_type": "display_data"
    },
    {
     "data": {
      "application/vnd.jupyter.widget-view+json": {
       "model_id": "b5c51335d223480488adfd03027c9a43",
       "version_major": 2,
       "version_minor": 0
      },
      "text/plain": [
       "  0%|          | 0/53 [00:00<?, ?it/s]"
      ]
     },
     "metadata": {},
     "output_type": "display_data"
    },
    {
     "data": {
      "application/vnd.jupyter.widget-view+json": {
       "model_id": "c5009a69d4d54000a06d07a7a051b589",
       "version_major": 2,
       "version_minor": 0
      },
      "text/plain": [
       "  0%|          | 0/53 [00:00<?, ?it/s]"
      ]
     },
     "metadata": {},
     "output_type": "display_data"
    }
   ],
   "source": [
    "if CALCULATE_NEW_METRICS:\n",
    "    for run in simulation_run_dirs:\n",
    "        ensemble = int(run.split('seed_')[-1].split('_')[0])\n",
    "\n",
    "        with open(simulation_dir + '/' + run + '/test/model_epoch030/test_results.p', 'rb') as f:\n",
    "            run_data = pkl.load(f)\n",
    "\n",
    "        for basin in tqdm(run_data):\n",
    "\n",
    "            sim = run_data[basin]['1D']['xr'].stack(datetime=['date', 'time_step'])['QObs(mm/d)_sim']\n",
    "            sim['datetime'] = sim.coords['date']# + sim.coords['time_step']\n",
    "            obs = data_xr[basin]['1D']['xr']['QObs(mm/d)_obs'].stack(datetime=['date', 'time_step'])\n",
    "            obs['datetime'] = obs.coords['date']# + obs.coords['time_step']\n",
    "            basin_metrics = metrics.calculate_metrics(obs=obs, sim=sim, metrics=metrics_list)\n",
    "\n",
    "            for metric in metrics_list:\n",
    "                simulation_statistics[metric].loc[basin, ensemble] = basin_metrics[metric]"
   ]
  },
  {
   "cell_type": "code",
   "execution_count": 14,
   "metadata": {},
   "outputs": [
    {
     "data": {
      "text/plain": [
       "0    0.702759\n",
       "dtype: float64"
      ]
     },
     "execution_count": 14,
     "metadata": {},
     "output_type": "execute_result"
    }
   ],
   "source": [
    "simulation_statistics['NSE'].median()"
   ]
  },
  {
   "cell_type": "markdown",
   "metadata": {},
   "source": [
    "## Assimilation"
   ]
  },
  {
   "cell_type": "code",
   "execution_count": 15,
   "metadata": {},
   "outputs": [
    {
     "data": {
      "application/vnd.jupyter.widget-view+json": {
       "model_id": "b105d555e8a44952bb8a3a4dfad48c78",
       "version_major": 2,
       "version_minor": 0
      },
      "text/plain": [
       "  0%|          | 0/10 [00:00<?, ?it/s]"
      ]
     },
     "metadata": {},
     "output_type": "display_data"
    },
    {
     "data": {
      "application/vnd.jupyter.widget-view+json": {
       "model_id": "48f62ffecea549b9acceebb294a20104",
       "version_major": 2,
       "version_minor": 0
      },
      "text/plain": [
       "  0%|          | 0/53 [00:00<?, ?it/s]"
      ]
     },
     "metadata": {},
     "output_type": "display_data"
    },
    {
     "data": {
      "application/vnd.jupyter.widget-view+json": {
       "model_id": "7feb48e7da8b4aa6b89ec1efaee3199c",
       "version_major": 2,
       "version_minor": 0
      },
      "text/plain": [
       "  0%|          | 0/53 [00:00<?, ?it/s]"
      ]
     },
     "metadata": {},
     "output_type": "display_data"
    },
    {
     "data": {
      "application/vnd.jupyter.widget-view+json": {
       "model_id": "0316574fed4f439b8151826f01ecb8d4",
       "version_major": 2,
       "version_minor": 0
      },
      "text/plain": [
       "  0%|          | 0/53 [00:00<?, ?it/s]"
      ]
     },
     "metadata": {},
     "output_type": "display_data"
    },
    {
     "data": {
      "application/vnd.jupyter.widget-view+json": {
       "model_id": "96c8b29d3ac6448c89b784da64d396aa",
       "version_major": 2,
       "version_minor": 0
      },
      "text/plain": [
       "  0%|          | 0/53 [00:00<?, ?it/s]"
      ]
     },
     "metadata": {},
     "output_type": "display_data"
    },
    {
     "data": {
      "application/vnd.jupyter.widget-view+json": {
       "model_id": "8aa41c25683340c68b3cda013de1a82e",
       "version_major": 2,
       "version_minor": 0
      },
      "text/plain": [
       "  0%|          | 0/53 [00:00<?, ?it/s]"
      ]
     },
     "metadata": {},
     "output_type": "display_data"
    },
    {
     "data": {
      "application/vnd.jupyter.widget-view+json": {
       "model_id": "5e7fe127e5b748d8b1412af85ccff644",
       "version_major": 2,
       "version_minor": 0
      },
      "text/plain": [
       "  0%|          | 0/53 [00:00<?, ?it/s]"
      ]
     },
     "metadata": {},
     "output_type": "display_data"
    },
    {
     "data": {
      "application/vnd.jupyter.widget-view+json": {
       "model_id": "b6600a0080554203baa35973a5d48991",
       "version_major": 2,
       "version_minor": 0
      },
      "text/plain": [
       "  0%|          | 0/54 [00:00<?, ?it/s]"
      ]
     },
     "metadata": {},
     "output_type": "display_data"
    },
    {
     "data": {
      "application/vnd.jupyter.widget-view+json": {
       "model_id": "2a80e59c7b124031ab27022667b21b80",
       "version_major": 2,
       "version_minor": 0
      },
      "text/plain": [
       "  0%|          | 0/53 [00:00<?, ?it/s]"
      ]
     },
     "metadata": {},
     "output_type": "display_data"
    },
    {
     "data": {
      "application/vnd.jupyter.widget-view+json": {
       "model_id": "ff9a0a84a6824ee3951d3df5bfc25137",
       "version_major": 2,
       "version_minor": 0
      },
      "text/plain": [
       "  0%|          | 0/53 [00:00<?, ?it/s]"
      ]
     },
     "metadata": {},
     "output_type": "display_data"
    },
    {
     "data": {
      "application/vnd.jupyter.widget-view+json": {
       "model_id": "6aa106f589d44c4980c6d44b5c2603f6",
       "version_major": 2,
       "version_minor": 0
      },
      "text/plain": [
       "  0%|          | 0/53 [00:00<?, ?it/s]"
      ]
     },
     "metadata": {},
     "output_type": "display_data"
    }
   ],
   "source": [
    "if CALCULATE_NEW_METRICS:\n",
    "    for run in tqdm(assimilation_run_dirs):\n",
    "        hf = float(run.split('holdout_')[-1].split('_')[0])   \n",
    "        lead_time = int(run.split('lead_')[-1].split('_')[0])\n",
    "        ensemble = int(run.split('seed_')[-1].split('_')[0])\n",
    "\n",
    "        with open(assimilation_dir + '/' + run + '/test/model_epoch030/test_results_data_assimilation.p', 'rb') as f:\n",
    "            run_data = pkl.load(f)\n",
    "\n",
    "        for basin in tqdm(run_data):\n",
    "            sim = run_data[basin]['1D']['xr'].stack(datetime=['date', 'time_step'])['QObs(mm/d)_sim']\n",
    "            sim['datetime'] = sim.coords['date']# + sim.coords['time_step']\n",
    "            obs = data_xr[basin]['1D']['xr']['QObs(mm/d)_obs'].stack(datetime=['date', 'time_step'])\n",
    "            obs['datetime'] = obs.coords['date']# + obs.coords['time_step']\n",
    "            basin_metrics = metrics.calculate_metrics(obs=obs, sim=sim, metrics=metrics_list)\n",
    "\n",
    "            for metric in metrics_list:\n",
    "                assimilation_statistics[metric].loc[basin, ensemble] = basin_metrics[metric]"
   ]
  },
  {
   "cell_type": "code",
   "execution_count": 16,
   "metadata": {},
   "outputs": [
    {
     "data": {
      "text/plain": [
       "0    0.771882\n",
       "dtype: float64"
      ]
     },
     "execution_count": 16,
     "metadata": {},
     "output_type": "execute_result"
    }
   ],
   "source": [
    "assimilation_statistics['NSE'].median()"
   ]
  },
  {
   "cell_type": "markdown",
   "metadata": {},
   "source": [
    "## Autoregression"
   ]
  },
  {
   "cell_type": "code",
   "execution_count": 17,
   "metadata": {},
   "outputs": [
    {
     "data": {
      "application/vnd.jupyter.widget-view+json": {
       "model_id": "8d3ea68916b24cacbfe5a2aa9ee67503",
       "version_major": 2,
       "version_minor": 0
      },
      "text/plain": [
       "  0%|          | 0/10 [00:00<?, ?it/s]"
      ]
     },
     "metadata": {},
     "output_type": "display_data"
    },
    {
     "data": {
      "application/vnd.jupyter.widget-view+json": {
       "model_id": "d885b6b3f8c64acd980f4e95a72d78a3",
       "version_major": 2,
       "version_minor": 0
      },
      "text/plain": [
       "  0%|          | 0/53 [00:00<?, ?it/s]"
      ]
     },
     "metadata": {},
     "output_type": "display_data"
    },
    {
     "data": {
      "application/vnd.jupyter.widget-view+json": {
       "model_id": "9d4c45b2034446b5a44ea97b4a2abe63",
       "version_major": 2,
       "version_minor": 0
      },
      "text/plain": [
       "  0%|          | 0/54 [00:00<?, ?it/s]"
      ]
     },
     "metadata": {},
     "output_type": "display_data"
    },
    {
     "data": {
      "application/vnd.jupyter.widget-view+json": {
       "model_id": "d14554379d514e8ebf4cb84a0debfdf1",
       "version_major": 2,
       "version_minor": 0
      },
      "text/plain": [
       "  0%|          | 0/53 [00:00<?, ?it/s]"
      ]
     },
     "metadata": {},
     "output_type": "display_data"
    },
    {
     "data": {
      "application/vnd.jupyter.widget-view+json": {
       "model_id": "fba91f1d54a2426081b3c96e8d2eb938",
       "version_major": 2,
       "version_minor": 0
      },
      "text/plain": [
       "  0%|          | 0/53 [00:00<?, ?it/s]"
      ]
     },
     "metadata": {},
     "output_type": "display_data"
    },
    {
     "data": {
      "application/vnd.jupyter.widget-view+json": {
       "model_id": "030d553940b14ffe8727e6bcfbae0927",
       "version_major": 2,
       "version_minor": 0
      },
      "text/plain": [
       "  0%|          | 0/53 [00:00<?, ?it/s]"
      ]
     },
     "metadata": {},
     "output_type": "display_data"
    },
    {
     "data": {
      "application/vnd.jupyter.widget-view+json": {
       "model_id": "a8d0b6e97e6a42dd90694cf1f56da0ab",
       "version_major": 2,
       "version_minor": 0
      },
      "text/plain": [
       "  0%|          | 0/53 [00:00<?, ?it/s]"
      ]
     },
     "metadata": {},
     "output_type": "display_data"
    },
    {
     "data": {
      "application/vnd.jupyter.widget-view+json": {
       "model_id": "7ae28f92f611425d9ef787ae64964800",
       "version_major": 2,
       "version_minor": 0
      },
      "text/plain": [
       "  0%|          | 0/53 [00:00<?, ?it/s]"
      ]
     },
     "metadata": {},
     "output_type": "display_data"
    },
    {
     "data": {
      "application/vnd.jupyter.widget-view+json": {
       "model_id": "aaffd125ca5743848585d15111ae7a0f",
       "version_major": 2,
       "version_minor": 0
      },
      "text/plain": [
       "  0%|          | 0/53 [00:00<?, ?it/s]"
      ]
     },
     "metadata": {},
     "output_type": "display_data"
    },
    {
     "data": {
      "application/vnd.jupyter.widget-view+json": {
       "model_id": "1421ba6be860465b9085186b720e5b23",
       "version_major": 2,
       "version_minor": 0
      },
      "text/plain": [
       "  0%|          | 0/53 [00:00<?, ?it/s]"
      ]
     },
     "metadata": {},
     "output_type": "display_data"
    },
    {
     "data": {
      "application/vnd.jupyter.widget-view+json": {
       "model_id": "27295de070554abf8e6d890bfba10e40",
       "version_major": 2,
       "version_minor": 0
      },
      "text/plain": [
       "  0%|          | 0/53 [00:00<?, ?it/s]"
      ]
     },
     "metadata": {},
     "output_type": "display_data"
    }
   ],
   "source": [
    "if CALCULATE_NEW_METRICS:\n",
    "    for run in tqdm(autoregression_run_dirs):\n",
    "        ensemble = int(run.split('seed_')[-1].split('_')[0])\n",
    "\n",
    "        with open(autoregression_dir + '/' + run + '/test/model_epoch030/test_results.p', 'rb') as f:\n",
    "            run_data = pkl.load(f)\n",
    "\n",
    "        for basin in tqdm(run_data):\n",
    "            sim = run_data[basin]['1D']['xr'].stack(datetime=['date', 'time_step'])['QObs(mm/d)_sim']\n",
    "            sim['datetime'] = sim.coords['date']# + sim.coords['time_step']\n",
    "            obs = data_xr[basin]['1D']['xr']['QObs(mm/d)_obs'].stack(datetime=['date', 'time_step'])\n",
    "            obs['datetime'] = obs.coords['date']# + obs.coords['time_step']\n",
    "            basin_metrics = metrics.calculate_metrics(obs=obs, sim=sim, metrics=metrics_list)\n",
    "\n",
    "            for metric in metrics_list:\n",
    "                autoregression_statistics[metric].loc[basin, ensemble] = basin_metrics[metric]"
   ]
  },
  {
   "cell_type": "code",
   "execution_count": 18,
   "metadata": {},
   "outputs": [
    {
     "data": {
      "text/plain": [
       "0    0.806685\n",
       "dtype: float64"
      ]
     },
     "execution_count": 18,
     "metadata": {},
     "output_type": "execute_result"
    }
   ],
   "source": [
    "autoregression_statistics['NSE'].median().dropna()"
   ]
  },
  {
   "cell_type": "markdown",
   "metadata": {},
   "source": [
    "## Save & Load Precaculated Metrics"
   ]
  },
  {
   "cell_type": "code",
   "execution_count": 19,
   "metadata": {},
   "outputs": [],
   "source": [
    "# If we calculated new metrics, save these over any old ones that might exist.\n",
    "if CALCULATE_NEW_METRICS:\n",
    "    with open(pub_stats_filename, 'wb') as f:\n",
    "        pkl.dump([\n",
    "            simulation_statistics,\n",
    "            autoregression_statistics,\n",
    "            assimilation_statistics\n",
    "        ], f)"
   ]
  },
  {
   "cell_type": "code",
   "execution_count": 20,
   "metadata": {},
   "outputs": [],
   "source": [
    "# Load in the saved metrics. \n",
    "# Even if we just calcuated them, might as well make sure the file works.\n",
    "with open(pub_stats_filename, 'rb') as f:\n",
    "    pub_sim, pub_ar, pub_da = pkl.load(f)"
   ]
  },
  {
   "cell_type": "code",
   "execution_count": 21,
   "metadata": {},
   "outputs": [],
   "source": [
    "# Load in the saved metrics. \n",
    "# Even if we just calcuated them, might as well make sure the file works.\n",
    "with open(time_split_stats_filename, 'rb') as f:\n",
    "    time_sim, time_ar, time_da = pkl.load(f)"
   ]
  },
  {
   "cell_type": "markdown",
   "metadata": {},
   "source": [
    "# Plotting Utilities"
   ]
  },
  {
   "cell_type": "code",
   "execution_count": 43,
   "metadata": {},
   "outputs": [],
   "source": [
    "# Function to choose plotting colors (by data split type).\n",
    "def _model_to_color(model: str) -> str:\n",
    "    colors = {}\n",
    "    colors['Basin-Split'] = '#5D3A9B'\n",
    "    colors['Time-Split'] = '#E66100'\n",
    "    if 'Basin-Split' in model:\n",
    "        return colors['Basin-Split']\n",
    "    elif 'Time-Split' in model:\n",
    "        return colors['Time-Split']\n",
    "    else:\n",
    "        raise ValueError(f'Model string {model} not recognized.')"
   ]
  },
  {
   "cell_type": "code",
   "execution_count": 44,
   "metadata": {},
   "outputs": [],
   "source": [
    "# Function to choose plotting linestyles (by model type).\n",
    "def _model_to_linestyle(model: str) -> str:\n",
    "    ls = {}\n",
    "    ls['Sim'] = '-'\n",
    "    ls['AR'] = '--'\n",
    "    ls['DA'] = ':'\n",
    "    if 'Sim' in model:\n",
    "        return ls['Sim']\n",
    "    elif 'AR' in model:\n",
    "        return ls['AR']\n",
    "    elif 'DA' in model:\n",
    "        return ls['DA']\n",
    "    else:\n",
    "        raise ValueError(f'Model string {model} not recognized.')"
   ]
  },
  {
   "cell_type": "code",
   "execution_count": 45,
   "metadata": {},
   "outputs": [],
   "source": [
    "def _plot_cdf(\n",
    "    scores: np.ndarray, \n",
    "    ax: plt.Axes, \n",
    "    label: str, \n",
    "    xlabel:str, \n",
    "    xlim:Sequence[float]=None,\n",
    "    lw: float=2,\n",
    "    color: str=None,\n",
    "    ls: str='-',\n",
    "):\n",
    "    \n",
    "    # Plot the CDF\n",
    "    y_data = np.array(range(len(scores))) / len(scores)\n",
    "    x_data = np.sort(np.squeeze(scores))\n",
    "    if color is not None:\n",
    "        ax.plot(x_data, y_data, label=label, lw=lw, c=color, ls=ls)\n",
    "    else:\n",
    "        ax.plot(x_data, y_data, label=label, lw=lw, ls=ls)\n",
    "\n",
    "    # Aesthetics\n",
    "    ax.legend(fontsize=14)\n",
    "    ax.set_ylabel('Fraction of Basins')\n",
    "    ax.set_xlabel(xlabel, fontsize=20)\n",
    "\n",
    "    if xlim is not None:\n",
    "        ax.set_xlim(xlim)"
   ]
  },
  {
   "cell_type": "markdown",
   "metadata": {},
   "source": [
    "# Figures"
   ]
  },
  {
   "cell_type": "markdown",
   "metadata": {},
   "source": [
    "## Figure 1\n",
    "\n",
    "Median NSE scores of PUB and time-split models with a lag of 1 day and no data withheld during inference."
   ]
  },
  {
   "cell_type": "code",
   "execution_count": 46,
   "metadata": {},
   "outputs": [],
   "source": [
    "# import matplotlib\n",
    "# matplotlib.use('TkAgg')"
   ]
  },
  {
   "cell_type": "code",
   "execution_count": 47,
   "metadata": {},
   "outputs": [
    {
     "name": "stderr",
     "output_type": "stream",
     "text": [
      "/home/gsnearing/anaconda3/envs/neuralhydrology/lib/python3.7/site-packages/ipykernel_launcher.py:20: UserWarning: FixedFormatter should only be used together with FixedLocator\n"
     ]
    },
    {
     "data": {
      "image/png": "[encoded data removed]",
      "text/plain": [
       "<Figure size 1080x432 with 2 Axes>"
      ]
     },
     "metadata": {
      "needs_background": "light"
     },
     "output_type": "display_data"
    }
   ],
   "source": [
    "metric = 'NSE'\n",
    "comparison_index = ['Basin-Split Sim', 'Basin-Split DA', 'Basin-Split AR', 'Time-Split Sim', 'Time-Split DA', 'Time-Split AR']\n",
    "\n",
    "plotdata = pd.DataFrame(index=basins, columns=comparison_index)\n",
    "plotdata['Basin-Split Sim'] = pub_sim[metric]\n",
    "plotdata['Basin-Split DA'] = pub_da[metric]\n",
    "plotdata['Basin-Split AR'] = pub_ar[metric]\n",
    "plotdata['Time-Split Sim'] = time_sim[metric]\n",
    "plotdata['Time-Split DA'] = time_da[metric][(0.00, 1, 0)]\n",
    "plotdata['Time-Split AR'] = time_ar[metric][(0.00, 0.00, 1, 0)]\n",
    "\n",
    "color_mapping = [_model_to_color(model) for model in comparison_index]\n",
    "\n",
    "fig, axes = plt.subplots(1, 2, figsize=(15,6))\n",
    "\n",
    "axes[0].bar(plotdata.columns, plotdata.median().values, color=color_mapping)\n",
    "axes[0].vlines(plotdata.columns, plotdata.quantile(0.10), plotdata.quantile(0.90), color='grey', lw=5)\n",
    "axes[0].grid()\n",
    "axes[0].set_ylabel(f'Median {metric} over 531 Basins', fontsize=20)\n",
    "axes[0].set_xticklabels(plotdata.columns, rotation=90, fontsize=20)\n",
    "\n",
    "for col in plotdata.columns:\n",
    "    _plot_cdf(scores=plotdata[col], ax=axes[1], label=col, \n",
    "    xlabel=metric, xlim=[0,1], color=_model_to_color(col), ls=_model_to_linestyle(col))\n",
    "axes[1].grid()\n",
    "axes[1].set_ylabel(f'Fraction of Basins', fontsize=20)\n",
    "\n",
    "plot_file_name = f\"./results/plots/figure4_pub_nse.png\"\n",
    "plt.savefig(plot_file_name)"
   ]
  },
  {
   "cell_type": "markdown",
   "metadata": {},
   "source": [
    "## All Metrics"
   ]
  },
  {
   "cell_type": "code",
   "execution_count": 27,
   "metadata": {},
   "outputs": [
    {
     "data": {
      "image/png": "[encoded data removed]",
      "text/plain": [
       "<Figure size 432x288 with 1 Axes>"
      ]
     },
     "metadata": {
      "needs_background": "light"
     },
     "output_type": "display_data"
    },
    {
     "data": {
      "image/png": "[encoded data removed]",
      "text/plain": [
       "<Figure size 432x288 with 1 Axes>"
      ]
     },
     "metadata": {
      "needs_background": "light"
     },
     "output_type": "display_data"
    },
    {
     "data": {
      "image/png": "[encoded data removed]",
      "text/plain": [
       "<Figure size 432x288 with 1 Axes>"
      ]
     },
     "metadata": {
      "needs_background": "light"
     },
     "output_type": "display_data"
    },
    {
     "data": {
      "image/png": "[encoded data removed]",
      "text/plain": [
       "<Figure size 432x288 with 1 Axes>"
      ]
     },
     "metadata": {
      "needs_background": "light"
     },
     "output_type": "display_data"
    },
    {
     "data": {
      "image/png": "[encoded data removed]",
      "text/plain": [
       "<Figure size 432x288 with 1 Axes>"
      ]
     },
     "metadata": {
      "needs_background": "light"
     },
     "output_type": "display_data"
    },
    {
     "data": {
      "image/png": "[encoded data removed]",
      "text/plain": [
       "<Figure size 432x288 with 1 Axes>"
      ]
     },
     "metadata": {
      "needs_background": "light"
     },
     "output_type": "display_data"
    }
   ],
   "source": [
    "comparison_index = ['Basin-Split Sim', 'Basin-Split DA', 'Basin-Split AR', 'Time-Split Sim', 'Time-Split DA', 'Time-Split AR']\n",
    "\n",
    "for metric in metrics_list:\n",
    "\n",
    "    fig = plt.figure()\n",
    "    \n",
    "    plotdata = pd.DataFrame(index=basins, columns=comparison_index)\n",
    "    plotdata['Basin-Split Sim'] = pub_sim[metric]\n",
    "    plotdata['Basin-Split DA'] = pub_da[metric]\n",
    "    plotdata['Basin-Split AR'] = pub_ar[metric]\n",
    "    plotdata['Time-Split Sim'] = time_sim[metric]\n",
    "    plotdata['Time-Split DA'] = time_da[metric][(0.00, 1, 0)]\n",
    "    plotdata['Time-Split AR'] = time_ar[metric][(0.00, 0.00, 1, 0)]\n",
    "    plotdata.median()\n",
    "\n",
    "    color_mapping = [_model_to_color(model) for model in comparison_index]\n",
    "    plotdata.median().plot.bar(color=color_mapping)\n",
    "    # plt.errorbar(plotdata.columns, plotdata.median(), yerr=plotdata.std(), fmt='.', c='k', label='1 \\sigma')\n",
    "    plt.vlines(plotdata.columns, plotdata.quantile(0.10), plotdata.quantile(0.90), color='grey', lw=5)\n",
    "    plt.grid()\n",
    "    # plt.ylim([0,1])\n",
    "    plt.ylabel(f'Median {metric} over 531 Basins')\n",
    "\n",
    "    plot_file_name = f\"./results/plots/pub_{metric}_comparison.png\"\n",
    "    plt.savefig(plot_file_name)"
   ]
  },
  {
   "cell_type": "code",
   "execution_count": null,
   "metadata": {},
   "outputs": [],
   "source": []
  }
 ],
 "metadata": {
  "kernelspec": {
   "display_name": "Python 3",
   "language": "python",
   "name": "python3"
  },
  "language_info": {
   "codemirror_mode": {
    "name": "ipython",
    "version": 3
   },
   "file_extension": ".py",
   "mimetype": "text/x-python",
   "name": "python",
   "nbconvert_exporter": "python",
   "pygments_lexer": "ipython3",
   "version": "3.7.13"
  }
 },
 "nbformat": 4,
 "nbformat_minor": 2
}
