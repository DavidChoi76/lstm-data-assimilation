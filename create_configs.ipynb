{
 "cells": [
  {
   "cell_type": "markdown",
   "metadata": {},
   "source": [
    "# Imports & Paths"
   ]
  },
  {
   "cell_type": "code",
   "execution_count": 3,
   "metadata": {},
   "outputs": [],
   "source": [
    "import numpy as np\n",
    "import os\n",
    "import pathlib\n",
    "import shutil\n",
    "from sklearn import model_selection"
   ]
  },
  {
   "cell_type": "code",
   "execution_count": 2,
   "metadata": {},
   "outputs": [],
   "source": [
    "# Path to working directory.\n",
    "working_dir = pathlib.Path('/home/gsnearing/projects/lstm_data_assimilation')"
   ]
  },
  {
   "cell_type": "code",
   "execution_count": 3,
   "metadata": {},
   "outputs": [],
   "source": [
    "# Path to basin lists. \n",
    "# There must be a full CAMELS basin list file in the working directory.\n",
    "basin_file = pathlib.Path('531_basin_list.txt')\n",
    "basin_list_dir = pathlib.Path('basin_lists')\n",
    "if os.path.isdir(basin_list_dir):\n",
    "    shutil.rmtree(basin_list_dir)\n",
    "os.mkdir(basin_list_dir)"
   ]
  },
  {
   "cell_type": "code",
   "execution_count": 4,
   "metadata": {},
   "outputs": [],
   "source": [
    "# Paths to master configs. \n",
    "# Master configs are templates that are modified for different model runs.\n",
    "master_config_dir = working_dir / 'master_configs'\n",
    "master_simulation_config = master_config_dir / 'simulation_config.yml'\n",
    "master_autoregression_config = master_config_dir / 'autoregression_config.yml'"
   ]
  },
  {
   "cell_type": "code",
   "execution_count": 5,
   "metadata": {},
   "outputs": [],
   "source": [
    "# Path to experiment configs. These are the configs that this notebook creates.\n",
    "experiment_config_dir = working_dir / 'run_configs/'\n",
    "\n",
    "# Ensure that the experiment config directory exists.\n",
    "if os.path.isdir(experiment_config_dir):\n",
    "    shutil.rmtree(experiment_config_dir)\n",
    "os.mkdir(experiment_config_dir)\n",
    "\n",
    "# Create time-split directories\n",
    "time_split_dir = experiment_config_dir / 'time_split'\n",
    "os.mkdir(time_split_dir)\n",
    "\n",
    "simulation_time_split_config_dir = time_split_dir / 'simulation'\n",
    "os.mkdir(simulation_time_split_config_dir)\n",
    "\n",
    "autoregression_time_split_config_dir = time_split_dir / 'autoregression'\n",
    "os.mkdir(autoregression_time_split_config_dir)\n",
    "\n",
    "assimilation_time_split_config_dir = time_split_dir / 'assimilation'\n",
    "os.mkdir(assimilation_time_split_config_dir)\n",
    "\n",
    "# Create PUB directories.\n",
    "pub_dir = experiment_config_dir / 'pub'\n",
    "os.mkdir(pub_dir)\n",
    "\n",
    "simulation_pub_config_dir = pub_dir / 'simulation'\n",
    "os.mkdir(simulation_pub_config_dir)\n",
    "\n",
    "autoregression_pub_config_dir = pub_dir / 'autoregression'\n",
    "os.mkdir(autoregression_pub_config_dir)\n",
    "\n",
    "assimilation_pub_config_dir = pub_dir / 'assimilation'\n",
    "os.mkdir(assimilation_pub_config_dir)"
   ]
  },
  {
   "cell_type": "code",
   "execution_count": 6,
   "metadata": {},
   "outputs": [],
   "source": [
    "# Paths to run directories.\n",
    "run_dir = pathlib.Path('runs')\n",
    "\n",
    "# Ensure that the high level run directory exists.\n",
    "if not os.path.isdir(run_dir):\n",
    "    os.mkdir(run_dir)\n",
    "\n",
    "# Create time-split directories\n",
    "time_split_run_dir = run_dir / 'time_split'\n",
    "if not os.path.isdir(time_split_run_dir):\n",
    "    os.mkdir(time_split_run_dir)\n",
    "\n",
    "simulation_time_split_run_dir = time_split_run_dir / 'simulation'\n",
    "if not os.path.isdir(simulation_time_split_run_dir):\n",
    "    os.mkdir(simulation_time_split_run_dir)\n",
    "\n",
    "autoregression_time_split_run_dir = time_split_run_dir / 'autoregression'\n",
    "if not os.path.isdir(autoregression_time_split_run_dir):\n",
    "    os.mkdir(autoregression_time_split_run_dir)\n",
    "\n",
    "assimilation_time_split_run_dir = time_split_run_dir / 'assimilation'\n",
    "if not os.path.isdir(assimilation_time_split_run_dir):\n",
    "    os.mkdir(assimilation_time_split_run_dir)\n",
    "\n",
    "# Create PUB directories.\n",
    "pub_run_dir = run_dir / 'pub'\n",
    "if not os.path.isdir(pub_run_dir):\n",
    "    os.mkdir(pub_run_dir)\n",
    "\n",
    "simulation_pub_run_dir = pub_run_dir / 'simulation'\n",
    "if not os.path.isdir(simulation_pub_run_dir):\n",
    "    os.mkdir(simulation_pub_run_dir)\n",
    "\n",
    "autoregression_pub_run_dir = pub_run_dir / 'autoregression'\n",
    "if not os.path.isdir(autoregression_pub_run_dir):\n",
    "    os.mkdir(autoregression_pub_run_dir)\n",
    "\n",
    "assimilation_pub_run_dir = pub_run_dir / 'assimilation'\n",
    "if not os.path.isdir(assimilation_pub_run_dir):\n",
    "    os.mkdir(assimilation_pub_run_dir)"
   ]
  },
  {
   "cell_type": "markdown",
   "metadata": {},
   "source": [
    "# Experiment Parameters"
   ]
  },
  {
   "cell_type": "code",
   "execution_count": 4,
   "metadata": {},
   "outputs": [
    {
     "name": "stdout",
     "output_type": "stream",
     "text": [
      "holdout fractions:  [0.   0.25 0.5  0.75 1.  ]\n"
     ]
    }
   ],
   "source": [
    "# Number of ensemble members. Each ensemble is initialized with an explicit seed.\n",
    "n_ensemble = 1\n",
    "seeds = list(range(n_ensemble))\n",
    "\n",
    "# Lead times.\n",
    "lead_times = [1, 2, 4, 8, 10]\n",
    "\n",
    "# Fractions of data to be withheld during inference.\n",
    "holdout_fractions = np.round(np.linspace(0, 1, 5) * 100) / 100\n",
    "print('holdout fractions: ', holdout_fractions)\n",
    "\n",
    "# Number of PUB k-fold splits.\n",
    "n_pub_kfold = 10"
   ]
  },
  {
   "cell_type": "code",
   "execution_count": 7,
   "metadata": {},
   "outputs": [
    {
     "name": "stdout",
     "output_type": "stream",
     "text": [
      "-----------------------------------------------------\n",
      "There are 1 time-split simulation training & test runs.\n",
      "There are 25 time-split AR training & test runs.\n",
      "There are 25 time-split DA test runs.\n",
      "-----------------------------------------------------\n",
      "There are 10 PUB simulation training & test runs.\n",
      "There are 10 PUB AR training & test runs.\n",
      "There are 10 PUB DA test runs.\n",
      "-----------------------------------------------------\n",
      "There are 46 total training runs.\n",
      "-----------------------------------------------------\n"
     ]
    }
   ],
   "source": [
    "# Report\n",
    "n_time_split_runs = n_ensemble * len(lead_times) * len(holdout_fractions)\n",
    "print('-----------------------------------------------------')\n",
    "print(f'There are {n_ensemble} time-split simulation training & test runs.')\n",
    "print(f'There are {n_time_split_runs} time-split AR training & test runs.')\n",
    "print(f'There are {n_time_split_runs} time-split DA test runs.')\n",
    "\n",
    "n_pub_split_runs = n_ensemble * n_pub_kfold\n",
    "print('-----------------------------------------------------')\n",
    "print(f'There are {n_pub_split_runs} PUB simulation training & test runs.')\n",
    "print(f'There are {n_pub_split_runs} PUB AR training & test runs.')\n",
    "print(f'There are {n_pub_split_runs} PUB DA test runs.')\n",
    "\n",
    "print('-----------------------------------------------------')\n",
    "print(f'There are {n_ensemble + n_time_split_runs + 2*n_pub_split_runs} total training runs.')\n",
    "# print(f'There are {2*n_ensemble + 2*n_time_split_runs + 2*n_pub_split_runs} total test runs.')\n",
    "print('-----------------------------------------------------')\n"
   ]
  },
  {
   "cell_type": "markdown",
   "metadata": {},
   "source": [
    "# Time-Split Configs"
   ]
  },
  {
   "cell_type": "markdown",
   "metadata": {},
   "source": [
    "## Simulation"
   ]
  },
  {
   "cell_type": "code",
   "execution_count": 9,
   "metadata": {},
   "outputs": [
    {
     "name": "stdout",
     "output_type": "stream",
     "text": [
      "1 config files were created.\n"
     ]
    }
   ],
   "source": [
    "# The only dimension for pure simulation models (no DA and no AR) is the number of ensemble members.\n",
    "count = 0\n",
    "for seed in seeds:\n",
    "\n",
    "    # Count the number of files created.\n",
    "    count += 1\n",
    "    \n",
    "    # Read the master config for simulation models.\n",
    "    with open(master_simulation_config, 'r') as f:\n",
    "        filedata = f.read()\n",
    "    \n",
    "    # Change the random seed and experiment name.\n",
    "    filedata = filedata.replace('seed:', f'seed: {seed}')\n",
    "    filedata = filedata.replace('experiment_name:', f'experiment_name: simulation_seed_{seed}')\n",
    "\n",
    "    # Change run directory.\n",
    "    filedata = filedata.replace('run_dir:', f'run_dir: {simulation_time_split_run_dir}')\n",
    " \n",
    "    # Save the resulting config file.\n",
    "    new_config = simulation_time_split_config_dir / f'seed_{seed}.yml'\n",
    "    with open(new_config, 'w') as f:\n",
    "        f.write(filedata)\n",
    "\n",
    "print(f'{count} config files were created.')"
   ]
  },
  {
   "cell_type": "markdown",
   "metadata": {},
   "source": [
    "## Autoregression"
   ]
  },
  {
   "cell_type": "code",
   "execution_count": 10,
   "metadata": {},
   "outputs": [
    {
     "name": "stdout",
     "output_type": "stream",
     "text": [
      "25 config files were created.\n"
     ]
    }
   ],
   "source": [
    "# Autoregression experiments have dimensions related to:\n",
    "# -- ensembles\n",
    "# -- lead times\n",
    "# -- holdout fraction\n",
    "count = 0\n",
    "for seed in seeds:\n",
    "    for lead in lead_times:\n",
    "        for holdout in holdout_fractions:\n",
    "\n",
    "            # Count the number of files created.\n",
    "            count += 1\n",
    "    \n",
    "            # Read the master config for autoregression models.\n",
    "            with open(master_autoregression_config, 'r') as f:\n",
    "                filedata = f.read()\n",
    "\n",
    "            # Change the experiment name.\n",
    "            filedata = filedata.replace('experiment_name:', f'experiment_name: autoregression_lead_{lead}_holdout_{holdout}_seed_{seed}')\n",
    "\n",
    "            # Change the random seed.\n",
    "            filedata = filedata.replace('seed:', f'seed: {seed}')\n",
    "\n",
    "            # Add shifted inputs. This requires two changes to the config file -- one to request the shift and one to use the shifted data.\n",
    "            filedata = filedata.replace(f'- xxx1\\n', f'- {lead}\\n')\n",
    "            filedata = filedata.replace(f'- xxxQObs(mm/d)_shift1\\n', f'- QObs(mm/d)_shift{lead}\\n')\n",
    "\n",
    "            # Add a random holdout fraction of the shifted input data. \n",
    "            filedata = filedata + f'random_holdout_from_dynamic_features: \\n '\n",
    "            filedata = filedata + f'  QObs(mm/d)_shift{lead}: \\n '\n",
    "            filedata = filedata + f'    missing_fraction: {holdout} \\n '\n",
    "            filedata = filedata + f'    mean_missing_length: 5 \\n '\n",
    "\n",
    "            # Change run directory.\n",
    "            filedata = filedata.replace('run_dir:', f'run_dir: {autoregression_time_split_run_dir}')\n",
    " \n",
    "            new_config = autoregression_time_split_config_dir / f'lead_{lead}_holdout_{holdout}_seed_{seed}.yml'\n",
    "            with open(new_config, 'w') as f:\n",
    "                f.write(filedata)\n",
    "\n",
    "print(f'{count} config files were created.')"
   ]
  },
  {
   "cell_type": "markdown",
   "metadata": {},
   "source": [
    "# PUB Configs"
   ]
  },
  {
   "cell_type": "code",
   "execution_count": 11,
   "metadata": {},
   "outputs": [],
   "source": [
    "# Only run PUB models for one leadtime.\n",
    "lead = 1"
   ]
  },
  {
   "cell_type": "markdown",
   "metadata": {},
   "source": [
    "## Create K-Fold Splits"
   ]
  },
  {
   "cell_type": "code",
   "execution_count": 12,
   "metadata": {},
   "outputs": [
    {
     "name": "stdout",
     "output_type": "stream",
     "text": [
      "There are 531 basins.\n"
     ]
    }
   ],
   "source": [
    "# List of all basins.\n",
    "with basin_file.open('r') as fp:\n",
    "    basins = sorted(basin.strip() for basin in fp if basin.strip())\n",
    "print(f'There are {len(basins)} basins.')"
   ]
  },
  {
   "cell_type": "code",
   "execution_count": 13,
   "metadata": {},
   "outputs": [],
   "source": [
    "# Create basin list files.\n",
    "for seed in seeds:\n",
    "\n",
    "    # Create a separate split for each ensemble member.\n",
    "    kf = model_selection.KFold(n_splits=n_pub_kfold, random_state=None, shuffle=True)\n",
    "\n",
    "    for kfold, (train_index, test_index) in enumerate(kf.split(basins)):\n",
    "\n",
    "        # Count the number of files created.\n",
    "        count += 1\n",
    "        \n",
    "        # Basin files.\n",
    "        train_basin_file = basin_list_dir / f'train_kfold_{kfold}_seed_{seed}.txt'\n",
    "        test_basin_file = basin_list_dir / f'test_kfold_{kfold}_seed_{seed}.txt'\n",
    "\n",
    "        # Write.\n",
    "        with train_basin_file.open('w') as fp:\n",
    "            for idx in train_index:\n",
    "                fp.write(f\"{basins[idx]}\\n\")\n",
    "\n",
    "        with test_basin_file.open('w') as fp:\n",
    "            for idx in test_index:\n",
    "                fp.write(f\"{basins[idx]}\\n\")  "
   ]
  },
  {
   "cell_type": "markdown",
   "metadata": {},
   "source": [
    "## Simulation"
   ]
  },
  {
   "cell_type": "code",
   "execution_count": 14,
   "metadata": {},
   "outputs": [
    {
     "name": "stdout",
     "output_type": "stream",
     "text": [
      "10 config files were created.\n"
     ]
    }
   ],
   "source": [
    "count = 0\n",
    "for seed in seeds:\n",
    "    for kfold in range(n_pub_kfold):\n",
    "\n",
    "        # Count the number of files created.\n",
    "        count += 1\n",
    "    \n",
    "        # Read the master config for simulation models.\n",
    "        with open(master_simulation_config, 'r') as f:\n",
    "            filedata = f.read()\n",
    "        \n",
    "        \n",
    "        # Change the random seed and experiment name.\n",
    "        filedata = filedata.replace('seed:', f'seed: {seed}')\n",
    "        filedata = filedata.replace('experiment_name:', f'experiment_name: pub_simulation_kfold_{kfold}_seed_{seed}')\n",
    "\n",
    "        # Change the basin files based on  kfold split.\n",
    "        train_basin_file = basin_list_dir / f'train_kfold_{kfold}_seed_{seed}.txt'\n",
    "        test_basin_file = basin_list_dir / f'test_kfold_{kfold}_seed_{seed}.txt'\n",
    "\n",
    "        filedata = filedata.replace('train_basin_file: basin_lists/531_basin_list.txt',\n",
    "                                   f'train_basin_file: {train_basin_file}')\n",
    "        filedata = filedata.replace('validation_basin_file: basin_lists/531_basin_list.txt',\n",
    "                                   f'validation_basin_file: {test_basin_file}')\n",
    "        filedata = filedata.replace('test_basin_file: basin_lists/531_basin_list.txt',\n",
    "                                   f'test_basin_file: {test_basin_file}')\n",
    "\n",
    "        # Change run directory.\n",
    "        filedata = filedata.replace('run_dir:', f'run_dir: {simulation_pub_run_dir}')\n",
    " \n",
    "        # Save the resulting config file.\n",
    "        new_config = simulation_pub_config_dir / f'kfold_{kfold}_seed_{seed}.yml'\n",
    "        with open(new_config, 'w') as f:\n",
    "            f.write(filedata)\n",
    "\n",
    "print(f'{count} config files were created.')"
   ]
  },
  {
   "cell_type": "markdown",
   "metadata": {},
   "source": [
    "## Autoregression"
   ]
  },
  {
   "cell_type": "code",
   "execution_count": 15,
   "metadata": {},
   "outputs": [
    {
     "name": "stdout",
     "output_type": "stream",
     "text": [
      "10 config files were created.\n"
     ]
    }
   ],
   "source": [
    "count = 0\n",
    "for seed in seeds:\n",
    "    for kfold in range(n_pub_kfold):\n",
    "        for holdout in [0.5]:\n",
    "                \n",
    "            # Count the number of files created.\n",
    "            count += 1\n",
    "\n",
    "            # Read the master config for autoregression models.\n",
    "            with open(master_autoregression_config, 'r') as f:\n",
    "                filedata = f.read()\n",
    "\n",
    "            # Change the experiment name.\n",
    "            filedata = filedata.replace('experiment_name:', f'experiment_name: pub_autoregression_holdout_{holdout}_kfold_{kfold}_seed_{str(seed)}')\n",
    "            \n",
    "            # Change the random seed.\n",
    "            filedata = filedata.replace('seed:', f'seed: {seed}')\n",
    "            \n",
    "            # Add shifted inputs. This requires two changes to the config file -- one to request the shift and one to use the shifted data.\n",
    "            filedata = filedata.replace(f'- xxx1\\n', f'- {lead}\\n')\n",
    "            filedata = filedata.replace(f'- xxxQObs(mm/d)_shift1\\n', f'- QObs(mm/d)_shift{lead}\\n')\n",
    "            \n",
    "            # Add a random holdout fraction of the shifted input data. \n",
    "            filedata = filedata + f'random_holdout_from_dynamic_features: \\n '\n",
    "            filedata = filedata + f'  QObs(mm/d)_shift{lead}: \\n '\n",
    "            filedata = filedata + f'    missing_fraction: {holdout} \\n '\n",
    "            filedata = filedata + f'    mean_missing_length: 5 \\n '\n",
    "\n",
    "            # Change the basin files based on  kfold split.\n",
    "            train_basin_file = basin_list_dir / f'train_kfold_{kfold}_seed_{seed}.txt'\n",
    "            test_basin_file = basin_list_dir / f'test_kfold_{kfold}_seed_{seed}.txt'\n",
    "\n",
    "            filedata = filedata.replace('train_basin_file: basin_lists/531_basin_list.txt',\n",
    "                                        f'train_basin_file: {train_basin_file}')\n",
    "            filedata = filedata.replace('validation_basin_file: basin_lists/531_basin_list.txt',\n",
    "                                        f'validation_basin_file: {test_basin_file}')\n",
    "            filedata = filedata.replace('test_basin_file: basin_lists/531_basin_list.txt',\n",
    "                                        f'test_basin_file: {test_basin_file}')\n",
    "\n",
    "            # Change run directory.\n",
    "            filedata = filedata.replace('run_dir:', f'run_dir: {autoregression_pub_run_dir}')\n",
    "\n",
    "            # Save the resulting config file.\n",
    "            new_config = autoregression_pub_config_dir / f'holdout_{holdout}_kfold_{kfold}_seed_{seed}.yml'    \n",
    "            with open(new_config, 'w') as f:\n",
    "                f.write(filedata)\n",
    "\n",
    "print(f'{count} config files were created.')"
   ]
  }
 ],
 "metadata": {
  "kernelspec": {
   "display_name": "Python 3",
   "language": "python",
   "name": "python3"
  },
  "language_info": {
   "codemirror_mode": {
    "name": "ipython",
    "version": 3
   },
   "file_extension": ".py",
   "mimetype": "text/x-python",
   "name": "python",
   "nbconvert_exporter": "python",
   "pygments_lexer": "ipython3",
   "version": "3.7.13"
  }
 },
 "nbformat": 4,
 "nbformat_minor": 4
}
